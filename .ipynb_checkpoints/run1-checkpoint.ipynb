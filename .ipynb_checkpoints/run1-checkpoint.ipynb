{
 "cells": [
  {
   "cell_type": "code",
   "execution_count": 23,
   "id": "653c9ee2",
   "metadata": {},
   "outputs": [],
   "source": [
    "import os\n",
    "import time\n",
    "import json\n",
    "from datetime import datetime, timedelta\n",
    "\n",
    "import requests"
   ]
  },
  {
   "cell_type": "code",
   "execution_count": 27,
   "id": "8560eaa4",
   "metadata": {},
   "outputs": [],
   "source": [
    "\n",
    "def fetch_and_save_stock_data(stock_code):\n",
    "    \"\"\"获取财报信息\"\"\"\n",
    "    \n",
    "    stock_data_dir = \"stockdata\"\n",
    "    if not os.path.exists(stock_data_dir):\n",
    "        os.makedirs(stock_data_dir)\n",
    "\n",
    "    file_path = os.path.join(stock_data_dir, f\"{stock_code}.txt\")\n",
    "\n",
    "    if os.path.exists(file_path):\n",
    "        return False\n",
    "\n",
    "    base_url = \"https://datacenter.eastmoney.com/securities/api/data/v1/get?reportName=RPT_HKF10_FN_MAININDICATOR&columns=ALL&quoteColumns=&filter=(SECUCODE%3D%22[CODE_PLACEHOLDER].HK%22)&pageNumber=1&pageSize=9&sortTypes=-1&sortColumns=STD_REPORT_DATE&source=F10&client=PC&v=02162015584756618\"\n",
    "    url = base_url.replace(\"[CODE_PLACEHOLDER]\", stock_code)\n",
    "\n",
    "    try:\n",
    "        response = requests.get(url)\n",
    "        response.raise_for_status()\n",
    "\n",
    "        with open(file_path, \"w\") as f:\n",
    "            f.write(response.text)\n",
    "        return True\n",
    "            \n",
    "    except requests.exceptions.RequestException as e:\n",
    "        print(f\"Error fetching data for {stock_code}: {e}\")\n"
   ]
  },
  {
   "cell_type": "code",
   "execution_count": 64,
   "id": "a70d5e4c",
   "metadata": {},
   "outputs": [
    {
     "name": "stdout",
     "output_type": "stream",
     "text": [
      "3083\n"
     ]
    }
   ],
   "source": [
    "\n",
    "def save_all_ticker_data():\n",
    "    \"\"\"保存所有的股票财报信息; 如果stockdata文件夹下已经存在, 则跳过\"\"\"\n",
    "    \n",
    "    hk_list = json.load(open(\"hk_list.json\", \"r\"))\n",
    "    l = hk_list[\"data\"]\n",
    "    \n",
    "    count = 0\n",
    "    for item in l:\n",
    "        ticker = item[\"ticker\"].zfill(5)\n",
    "        ret = fetch_and_save_stock_data(ticker)\n",
    "        if ret:\n",
    "            count += 1\n",
    "    print(count)\n"
   ]
  },
  {
   "cell_type": "code",
   "execution_count": 69,
   "id": "8791bec2",
   "metadata": {},
   "outputs": [],
   "source": [
    "def load_report_data(ticker):\n",
    "    return json.load(open(f\"stockdata/{ticker}.txt\", \"r\"))[\"result\"][\"data\"]"
   ]
  },
  {
   "cell_type": "code",
   "execution_count": 72,
   "id": "4638e0c3",
   "metadata": {},
   "outputs": [],
   "source": [
    "\n",
    "\n",
    "def get_ticker_price(ticker):\n",
    "    file_path = f\"stockprice/{ticker}.json\"\n",
    "    os.makedirs(\"stockprice\", exist_ok=True)\n",
    "    \n",
    "    # 尝试从网络获取最新数据\n",
    "    url = f\"https://push2his.eastmoney.com/api/qt/stock/trends2/get?fields1=f1%2Cf2%2Cf3%2Cf4%2Cf5%2Cf6%2Cf7%2Cf8%2Cf9%2Cf10%2Cf11%2Cf12%2Cf13&fields2=f51%2Cf52%2Cf53%2Cf54%2Cf55%2Cf56%2Cf57%2Cf58&ut=fa5fd1943c7b386f172d6893dbfba10b&iscr=0&ndays=5&secid=116.{ticker}&_=1623766962675\"\n",
    "    try:\n",
    "        response = requests.get(url, timeout=10)\n",
    "        response.raise_for_status()\n",
    "        data = response.json()\n",
    "        trends = data.get(\"data\", {}).get(\"trends\", [])\n",
    "        \n",
    "        max_time = None\n",
    "        max_trend = None\n",
    "\n",
    "        for trend in trends:\n",
    "            trend_list = trend.split(',')\n",
    "            time_str = trend_list[0]\n",
    "            trend_time = datetime.strptime(time_str, \"%Y-%m-%d %H:%M\")\n",
    "\n",
    "            if max_time is None or trend_time > max_time:\n",
    "                max_time = trend_time\n",
    "                max_trend = trend_list\n",
    "\n",
    "        price = float(max_trend[-1])\n",
    "        if price is None:\n",
    "            raise ValueError(\"无法提取股价信息\")\n",
    "        \n",
    "        # 保存最新数据到文件\n",
    "        with open(file_path, \"w\", encoding=\"utf-8\") as f:\n",
    "            json.dump({\"price\": price, \"timestamp\": time.time()}, f, ensure_ascii=False)\n",
    "        return price\n",
    "    except Exception as e:\n",
    "        # 如果网络请求失败，检查是否有缓存\n",
    "        if os.path.exists(file_path):\n",
    "            with open(file_path, \"r\", encoding=\"utf-8\") as f:\n",
    "                data = json.load(f)\n",
    "                saved_time = datetime.fromtimestamp(data.get(\"timestamp\", 0))\n",
    "                if datetime.now() - saved_time < timedelta(days=3):\n",
    "                    return data[\"price\"]\n",
    "                else:\n",
    "                    return None\n",
    "        else:\n",
    "            return None\n"
   ]
  },
  {
   "cell_type": "code",
   "execution_count": 73,
   "id": "1af057e7",
   "metadata": {},
   "outputs": [],
   "source": [
    "def get_market_cap(ticker):\n",
    "    \"\"\"计算市值\"\"\"\n",
    "    price = get_ticker_price(ticker)\n",
    "    meta_data = load_report_data(ticker)\n",
    "    if not price or not meta_data:\n",
    "        return None\n",
    "    return meta_data[0][\"ISSUED_COMMON_SHARES\"]*price/100000000\n",
    "    "
   ]
  },
  {
   "cell_type": "code",
   "execution_count": 76,
   "id": "b68a2017",
   "metadata": {},
   "outputs": [
    {
     "name": "stdout",
     "output_type": "stream",
     "text": [
      "15.120070202\n"
     ]
    }
   ],
   "source": [
    "print(get_market_cap(\"00837\"))"
   ]
  },
  {
   "cell_type": "code",
   "execution_count": null,
   "id": "a7d2d0c1",
   "metadata": {},
   "outputs": [],
   "source": []
  }
 ],
 "metadata": {
  "kernelspec": {
   "display_name": "Python 3 (ipykernel)",
   "language": "python",
   "name": "python3"
  },
  "language_info": {
   "codemirror_mode": {
    "name": "ipython",
    "version": 3
   },
   "file_extension": ".py",
   "mimetype": "text/x-python",
   "name": "python",
   "nbconvert_exporter": "python",
   "pygments_lexer": "ipython3",
   "version": "3.7.4"
  }
 },
 "nbformat": 4,
 "nbformat_minor": 5
}
